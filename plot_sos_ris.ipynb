{
 "cells": [
  {
   "cell_type": "markdown",
   "metadata": {},
   "source": [
    "## Plotting the Poincare section and reactive islands"
   ]
  },
  {
   "cell_type": "code",
   "execution_count": 1,
   "metadata": {},
   "outputs": [],
   "source": [
    "import numpy as np\n",
    "\n",
    "from matplotlib import cm\n",
    "import matplotlib as mpl\n",
    "import matplotlib.pyplot as plt\n",
    "from mpl_toolkits.mplot3d import Axes3D\n",
    "\n",
    "from pylab import rcParams\n",
    "mpl.rcParams['mathtext.fontset'] = 'cm'\n",
    "mpl.rcParams['mathtext.rm'] = 'serif'\n",
    "# mpl.rcParams['font.family'] = 'serif'\n",
    "# mpl.rcParams['font.serif'] = ['Helvetica']\n",
    "\n",
    "# plt.style.use('seaborn-white') # use sans-serif fonts\n",
    "\n",
    "rcParams['figure.figsize'] = 5, 5\n",
    "\n",
    "label_size = 25 #10, 20\n",
    "mpl.rcParams['xtick.labelsize'] = label_size\n",
    "mpl.rcParams['ytick.labelsize'] = label_size\n",
    "mpl.rcParams['axes.labelsize'] = 35 #, 15\n",
    "\n",
    "mpl.rcParams['axes.spines.left'] = True   ## display axis spines\n",
    "mpl.rcParams['axes.spines.bottom'] = True\n",
    "mpl.rcParams['axes.spines.top'] = True\n",
    "mpl.rcParams['axes.spines.right'] = True\n",
    "mpl.rcParams['xtick.top'] = True\n",
    "mpl.rcParams['ytick.right'] = True\n",
    "mpl.rcParams['xtick.direction'] = 'out'\n",
    "mpl.rcParams['ytick.direction'] = 'out'\n",
    "mpl.rcParams['xtick.major.size'] = 6\n",
    "mpl.rcParams['ytick.major.size'] = 6\n",
    "mpl.rcParams['xtick.major.width'] = 1.0\n",
    "mpl.rcParams['ytick.major.width'] = 1.0\n",
    "\n",
    "\n",
    "# Import system-bath module\n",
    "import saddlenode2dof\n",
    "import importlib\n",
    "importlib.reload(saddlenode2dof)\n",
    "import saddlenode2dof as sn2dof\n"
   ]
  },
  {
   "cell_type": "code",
   "execution_count": 2,
   "metadata": {},
   "outputs": [
    {
     "ename": "AttributeError",
     "evalue": "module 'saddlenode2dof' has no attribute 'energysurface_intersect_sos'",
     "output_type": "error",
     "traceback": [
      "\u001b[0;31m---------------------------------------------------------------------------\u001b[0m",
      "\u001b[0;31mAttributeError\u001b[0m                            Traceback (most recent call last)",
      "\u001b[0;32m<ipython-input-2-75de21e61be4>\u001b[0m in \u001b[0;36m<module>\u001b[0;34m\u001b[0m\n\u001b[1;32m     30\u001b[0m \u001b[0mparams\u001b[0m \u001b[0;34m=\u001b[0m \u001b[0;34m[\u001b[0m\u001b[0mMASS_A\u001b[0m\u001b[0;34m,\u001b[0m \u001b[0mMASS_B\u001b[0m\u001b[0;34m,\u001b[0m \u001b[0mMU\u001b[0m\u001b[0;34m,\u001b[0m \u001b[0mALPHA\u001b[0m\u001b[0;34m,\u001b[0m \u001b[0mOMEGA\u001b[0m\u001b[0;34m,\u001b[0m \u001b[0mEPSILON\u001b[0m\u001b[0;34m]\u001b[0m\u001b[0;34m\u001b[0m\u001b[0;34m\u001b[0m\u001b[0m\n\u001b[1;32m     31\u001b[0m \u001b[0;34m\u001b[0m\u001b[0m\n\u001b[0;32m---> 32\u001b[0;31m \u001b[0menergy_boundary\u001b[0m \u001b[0;34m=\u001b[0m \u001b[0msn2dof\u001b[0m\u001b[0;34m.\u001b[0m\u001b[0menergysurface_intersect_sos\u001b[0m\u001b[0;34m(\u001b[0m\u001b[0mparams\u001b[0m\u001b[0;34m,\u001b[0m \u001b[0mdeltaEnergy\u001b[0m\u001b[0;34m,\u001b[0m \u001b[0;36m1.0\u001b[0m\u001b[0;34m)\u001b[0m\u001b[0;34m\u001b[0m\u001b[0;34m\u001b[0m\u001b[0m\n\u001b[0m\u001b[1;32m     33\u001b[0m \u001b[0mindex_pos_px\u001b[0m \u001b[0;34m=\u001b[0m \u001b[0mnp\u001b[0m\u001b[0;34m.\u001b[0m\u001b[0mwhere\u001b[0m\u001b[0;34m(\u001b[0m\u001b[0mintersections\u001b[0m\u001b[0;34m[\u001b[0m\u001b[0;34m:\u001b[0m\u001b[0;34m,\u001b[0m\u001b[0;36m2\u001b[0m\u001b[0;34m]\u001b[0m \u001b[0;34m>\u001b[0m \u001b[0;36m0\u001b[0m\u001b[0;34m)\u001b[0m\u001b[0;34m\u001b[0m\u001b[0;34m\u001b[0m\u001b[0m\n\u001b[1;32m     34\u001b[0m \u001b[0;34m\u001b[0m\u001b[0m\n",
      "\u001b[0;31mAttributeError\u001b[0m: module 'saddlenode2dof' has no attribute 'energysurface_intersect_sos'"
     ]
    }
   ],
   "source": [
    "\n",
    "datapath_psect = './data-figures/poincare-sections/coupled_mu4_omega3_epsilon5_deltaEnergy5e-1/'\n",
    "# datapath_psect = './data-figures/poincare-sections/uncoupled_mu4_omega3_epsilon0_deltaEnergy5e-1/'\n",
    "\n",
    "datapath_manifolds = './data-figures/manifolds/coupled_alpha5_mu4_omega3_epsilon5_deltaEnergy5e-1/'\n",
    "# datapath_manifolds = './data-figures/manifolds/uncoupled_alpha2_mu4_omega3_epsilon1e-20_deltaEnergy5e-1/'\n",
    "\n",
    "filename_psect = 'coupled_sn2dof_alpha5_tau20.txt'\n",
    "# filename_psect = 'uncoupled_sn2dof_alpha2_tau20.txt'\n",
    "\n",
    "\n",
    "filename_smani = 'xeU1_stable_branch1_eqPt1_DelE0.5_saddlenode2dof.txt'\n",
    "filename_umani = 'xeU1_unstable_branch1_eqPt1_DelE0.5_saddlenode2dof.txt'\n",
    "\n",
    "intersections = np.loadtxt(datapath_psect + filename_psect)\n",
    "smani_sos = np.loadtxt(datapath_manifolds + filename_smani) # first column is time, then x, y,px,py\n",
    "umani_sos = np.loadtxt(datapath_manifolds + filename_umani) # first column is time, then x, y,px,py\n",
    "\n",
    "# Model parameters\n",
    "N = 2\n",
    "MASS_A = 1.0\n",
    "MASS_B = 1.0\n",
    "MU = 4.00\n",
    "ALPHA = 5.00\n",
    "OMEGA = 3.00\n",
    "EPSILON = 5.00\n",
    "\n",
    "deltaEnergy = 0.5\n",
    "saddleEnergy = 0\n",
    "totalEnergy = saddleEnergy + deltaEnergy\n",
    "params = [MASS_A, MASS_B, MU, ALPHA, OMEGA, EPSILON]\n",
    "\n",
    "energy_boundary = sn2dof.energysurface_intersect_sos(params, deltaEnergy, 1.0)\n",
    "index_pos_px = np.where(intersections[:,2] > 0)\n",
    "\n",
    "plt.close('all')\n",
    "fig = plt.figure(figsize=(6, 6))\n",
    "ax = fig.gca()\n",
    "\n",
    "ax.plot(energy_boundary[:,0], energy_boundary[:,1], linewidth = 2, color = 'm')\n",
    "# ax.scatter(initconds[:,1], initconds[:,3], s = 5)\n",
    "ax.scatter(intersections[index_pos_px,1], intersections[index_pos_px,3], s = 0.5, c = 'k')\n",
    "ax.scatter(umani_sos[:,2], umani_sos[:,4], s = 3, c = 'r')\n",
    "ax.scatter(smani_sos[:,2], smani_sos[:,4], s = 3, c = 'b')\n",
    "\n",
    "\n",
    "ax.set_xlabel(r'$y$', fontsize = 25)\n",
    "ax.set_ylabel(r'$p_y$', fontsize = 25)\n",
    "plt.tick_params(axis = 'both', which = 'major', labelsize = 15)\n",
    "plt.savefig('coupled_alpha5_mu4_omega3_epsilon5_deltaEnergy5e-1.pdf', \\\n",
    "           bbox_inches = 'tight')\n",
    "plt.show()\n"
   ]
  },
  {
   "cell_type": "code",
   "execution_count": 73,
   "metadata": {},
   "outputs": [
    {
     "data": {
      "text/plain": [
       "(1000, 5)"
      ]
     },
     "execution_count": 73,
     "metadata": {},
     "output_type": "execute_result"
    }
   ],
   "source": [
    "np.shape(umani_sos)"
   ]
  },
  {
   "cell_type": "markdown",
   "metadata": {},
   "source": [
    "## Making the grid of Poincare surface of section plots"
   ]
  },
  {
   "cell_type": "code",
   "execution_count": null,
   "metadata": {},
   "outputs": [],
   "source": []
  }
 ],
 "metadata": {
  "kernelspec": {
   "display_name": "Python 3",
   "language": "python",
   "name": "python3"
  },
  "language_info": {
   "codemirror_mode": {
    "name": "ipython",
    "version": 3
   },
   "file_extension": ".py",
   "mimetype": "text/x-python",
   "name": "python",
   "nbconvert_exporter": "python",
   "pygments_lexer": "ipython3",
   "version": "3.7.4"
  }
 },
 "nbformat": 4,
 "nbformat_minor": 4
}
