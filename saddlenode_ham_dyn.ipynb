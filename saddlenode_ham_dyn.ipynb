{
 "cells": [
  {
   "cell_type": "markdown",
   "metadata": {},
   "source": [
    "## Saddle-node Hamiltonian model of reaction dynamics"
   ]
  },
  {
   "cell_type": "markdown",
   "metadata": {},
   "source": [
    "### 1 degree-of-freedom\n",
    "\n",
    "\n",
    "\\begin{equation}\n",
    "H(q, p) = \\frac{p^2}{2} - \\sqrt{\\mu} q^2 +  \\alpha \\frac{q^3}{3}.\n",
    "\\label{eqn:ham_saddle_node}\n",
    "\\end{equation}"
   ]
  },
  {
   "cell_type": "markdown",
   "metadata": {},
   "source": [
    "#### Settings"
   ]
  },
  {
   "cell_type": "code",
   "execution_count": 1,
   "metadata": {},
   "outputs": [],
   "source": [
    "#!/usr/bin/env python3\n",
    "# -*- coding: utf-8 -*-\n",
    "\"\"\"\n",
    "Created on Monday Apr 29 2019 10:16:15\n",
    "\n",
    "@author: Shibabrat Naik, shiba@vt.edu\n",
    "\"\"\"\n",
    "\n",
    "import numpy as np\n",
    "import matplotlib as mpl\n",
    "import matplotlib.pyplot as plt\n",
    "from mpl_toolkits.mplot3d import Axes3D\n",
    "from matplotlib import cm\n",
    "\n",
    "from scipy.optimize import fsolve\n",
    "\n",
    "from pylab import rcParams\n",
    "mpl.rcParams['mathtext.fontset'] = 'cm'\n",
    "mpl.rcParams['mathtext.rm'] = 'serif'\n",
    "\n",
    "rcParams['figure.figsize'] = 8, 8\n",
    "\n",
    "label_size = 30\n",
    "mpl.rcParams['xtick.labelsize'] = label_size\n",
    "mpl.rcParams['ytick.labelsize'] = label_size\n",
    "mpl.rcParams['axes.labelsize'] = 30\n",
    "\n",
    "#mpl.rcParams['font.weight'] = 'bold'\n",
    "mpl.rcParams['font.weight'] = 'normal'"
   ]
  },
  {
   "cell_type": "markdown",
   "metadata": {},
   "source": [
    "### 2 degrees-of-freedom\n",
    "\n",
    "\n",
    "\\begin{equation}\n",
    "H(q,x,p,p_x) = \\dfrac{p^2}{2} + \\dfrac{p_x^2}{2} - \\sqrt{\\mu} \\, q^2 + \\frac{\\alpha}{3} \\,q^3 + \\dfrac{\\omega^2}{2} x^2 + \\dfrac{\\varepsilon}{2} \\left(x-q\\right)^2 \\; ,\n",
    "\\label{ham_2dof}\n",
    "\\end{equation}\n",
    "\n"
   ]
  },
  {
   "cell_type": "markdown",
   "metadata": {},
   "source": [
    "#### Numerical solution of equilibrium points\n",
    "\n",
    "Parameters:\n",
    "$m_a = 1, m_b = 1, \\mu = 0.25, \\alpha = 2.0, \\omega = 1.25, \\epsilon = 1.0$"
   ]
  },
  {
   "cell_type": "code",
   "execution_count": 39,
   "metadata": {},
   "outputs": [
    {
     "name": "stdout",
     "output_type": "stream",
     "text": [
      "[0. 0. 0. 0.]\n",
      "[ 2.32894433e-01  3.88157388e-02 -9.76271637e-34  6.66601561e-34]\n",
      "[[-0.00421072]]\n"
     ]
    }
   ],
   "source": [
    "from scipy import optimize\n",
    "import saddlenode2dof\n",
    "import importlib\n",
    "importlib.reload(saddlenode2dof)\n",
    "import saddlenode2dof as sn2dof\n",
    "\n",
    "# Choose parameter values mu, alpha\n",
    "mu = 0.1\n",
    "alpha = 2.0\n",
    "omega = 1.0\n",
    "epsilon = 0.2\n",
    "\n",
    "# mass of isomer A, mass of isomer B, mu, alpha, omega, epsilon = params\n",
    "params =  (1, 1, mu, alpha, omega, epsilon)\n",
    "eq_pt_1 = optimize.fsolve(sn2dof.vec_field_sn2dof, [0, 0, 0, 0], \\\n",
    "                            args = params, xtol = 1e-12, maxfev = 1000)\n",
    "print(eq_pt_1)\n",
    "\n",
    "eq_pt_2 = optimize.fsolve(sn2dof.vec_field_sn2dof, [0.1, 0.1, 0, 0], \\\n",
    "                            args = params, xtol = 1e-12, maxfev = 1000)\n",
    "print(eq_pt_2)\n",
    "\n",
    "PE_eq_pt_2 = sn2dof.V_sn2dof(eq_pt_2[0], eq_pt_2[1], params[2:])\n",
    "print(PE_eq_pt_2)"
   ]
  },
  {
   "cell_type": "markdown",
   "metadata": {},
   "source": [
    "#### Analytical expression for the equilibrium point at the bottom of the well"
   ]
  },
  {
   "cell_type": "code",
   "execution_count": 31,
   "metadata": {},
   "outputs": [
    {
     "name": "stdout",
     "output_type": "stream",
     "text": [
      "[0.19512195 0.07614515 0.         0.        ]\n",
      "-0.002476265095785997\n"
     ]
    }
   ],
   "source": [
    "factor = 2*np.sqrt(mu) - (omega**2*epsilon)/(omega**2 + epsilon)\n",
    "eq_pt_2_exp = np.array([factor/alpha, \\\n",
    "                        (epsilon/(omega**2 + epsilon))*(factor/alpha), \n",
    "                        0, 0])\n",
    "\n",
    "print(eq_pt_2_exp)\n",
    "\n",
    "# Comparing numerical and analytical solutions of the equilibrium point\n",
    "# PE_eq_pt_2_exp = sn2dof.V_sn2dof(eq_pt_2_exp[0], eq_pt_2_exp[1], params[2:])\n",
    "# print(PE_eq_pt_2_exp)\n",
    "\n",
    "# Comparing numerical and analytical expression of the potential energy \n",
    "# of the equilibrium point at the bottom of the well\n",
    "PE_exp_eq_pt_2 = -(factor**3/(6*alpha**2))\n",
    "print(PE_exp_eq_pt_2)"
   ]
  },
  {
   "cell_type": "code",
   "execution_count": null,
   "metadata": {},
   "outputs": [],
   "source": []
  },
  {
   "cell_type": "code",
   "execution_count": null,
   "metadata": {},
   "outputs": [],
   "source": []
  },
  {
   "cell_type": "code",
   "execution_count": null,
   "metadata": {},
   "outputs": [],
   "source": []
  },
  {
   "cell_type": "code",
   "execution_count": null,
   "metadata": {},
   "outputs": [],
   "source": []
  },
  {
   "cell_type": "code",
   "execution_count": null,
   "metadata": {},
   "outputs": [],
   "source": []
  }
 ],
 "metadata": {
  "kernelspec": {
   "display_name": "Python 3",
   "language": "python",
   "name": "python3"
  },
  "language_info": {
   "codemirror_mode": {
    "name": "ipython",
    "version": 3
   },
   "file_extension": ".py",
   "mimetype": "text/x-python",
   "name": "python",
   "nbconvert_exporter": "python",
   "pygments_lexer": "ipython3",
   "version": "3.6.8"
  }
 },
 "nbformat": 4,
 "nbformat_minor": 2
}
